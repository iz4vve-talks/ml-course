{
 "cells": [
  {
   "cell_type": "markdown",
   "metadata": {},
   "source": [
    "# Statistics 101"
   ]
  },
  {
   "cell_type": "markdown",
   "metadata": {},
   "source": [
    "## Basic concepts\n",
    "\n",
    "**Population**  \n",
    "A population is any large collection of objects or individuals, such as Americans, students, or trees about which information is desired.\n",
    "\n",
    "**Parameter**  \n",
    "A parameter is any summary number, like an average or percentage, that describes the entire population.\n",
    "\n",
    "**Sample**  \n",
    "A sample is a representative group drawn from the population.\n",
    "\n",
    "**Statistic**  \n",
    "A statistic is any summary number, like an average or percentage, that describes the sample.\n",
    "\n",
    "\n",
    "**Descriptive statistics** is the branch of statistics that involves organizing, displaying, and describing data.\n",
    "\n",
    "**Inferential statistics** is the branch of statistics that involves drawing conclusions about a population based on information contained in a sample taken from that population.\n",
    "\n",
    "### Basic quantities\n",
    "\n",
    "#### Mean\n",
    "\n",
    "There are many kinds of means (arithmetic, geometric, harmonic, ...), but for most purposes we will be using the arithmetic mean.\n",
    "\n",
    "$$ \\overline{X} = \\frac{1}{n}\\sum_{i=1}^n X_i $$\n",
    "\n",
    "#### Quantiles and median\n",
    "\n",
    "Quantiles are cut points dividing the range of a probability distribution into continuous intervals with equal probabilities, or dividing the observations in a sample in the same way.\n",
    "\n",
    "<img src=\"https://www.hackmath.net/images/quartiles.png\">\n",
    "\n",
    "The median is the 50% quantile (\"the middle quantile\").\n",
    "\n",
    "#### Variance\n",
    "\n",
    "Variance is the measure of how far a set of (random) numbers are spread out from their average value.\n",
    "\n",
    "$$Var(X) = E\\left[ (X - \\mu)^2 \\right] = E[X^2] - E[X]^2$$\n",
    "\n",
    "#### Standard deviation\n",
    "\n",
    "Square root of the variance. Useful because it's expressed in the same units as the variable.\n",
    "\n",
    "$$SD(X) = \\sigma_X = \\sqrt{E\\left[ (X - \\mu)^2 \\right]}$$\n",
    "\n",
    "#### Covariance\n",
    "\n",
    "A measure of how two (random) variables vary with respect to each other.\n",
    "\n",
    "$$cov(X,Y) = E\\left[ \\left( X-E[X] \\right) \\left( Y-E[Y] \\right) \\right]$$\n",
    "\n",
    "#### Standardization\n",
    "\n",
    "For a series of values, the process of standardization involves subtracting the mean to each values and dividing it by the standard deviation.\n",
    "\n",
    "$$X_{\\text{standard}} = \\frac{X - \\mu_x}{\\sigma_X}$$\n",
    "\n",
    "#### Correlation\n",
    "\n",
    "Correlation is the standardized covariance (or the covariance of standardized variables).\n",
    "\n",
    "$$corr = \\frac{cov(X,Y)}{\\sigma_X\\sigma_Y} = cov \\left( \\frac{X-E[X]}{\\sigma_X},\\frac{Y-E[Y]}{\\sigma_Y}\\right)$$\n",
    "\n",
    "Correlation can be quite useful because it is adimensional and $-1 \\leq corr(X,Y) \\leq 1$."
   ]
  },
  {
   "cell_type": "markdown",
   "metadata": {},
   "source": [
    "<img src=\"https://www.logoworks.com/blog/wp-content/uploads/2014/05/09.jpg\">"
   ]
  },
  {
   "cell_type": "markdown",
   "metadata": {},
   "source": [
    "# Statistical distributions - Modeling events\n",
    "\n",
    "Distributions allow us to model events and get more information about them. We can solve problems by using them. \n",
    "Distributions can be either discrete or continuous depending on what they describe."
   ]
  },
  {
   "cell_type": "code",
   "execution_count": 2,
   "metadata": {},
   "outputs": [],
   "source": [
    "from scipy import stats\n",
    "\n",
    "import matplotlib.pyplot as plt\n",
    "import seaborn as sns"
   ]
  },
  {
   "cell_type": "code",
   "execution_count": 3,
   "metadata": {},
   "outputs": [],
   "source": [
    "plt.rcParams[\"figure.figsize\"] = 16, 6"
   ]
  },
  {
   "cell_type": "markdown",
   "metadata": {},
   "source": [
    "## Discrete distributions\n",
    "\n",
    "#### Bernoulli\n",
    "\n",
    "A Bernoulli distribution has only two possible outcomes, namely 1 (success) and 0 (failure), and a single trial. So the random variable X which has a Bernoulli distribution can take value 1 with the probability of success $p$, and the value 0 with the probability of failure $q = (1-p)$ . If a variable X is a Bernoulli trial, it is indicated as $X \\sim Bern(p)$\n",
    " \n",
    "The probability mass function (PMF) can be written as:\n",
    "\n",
    "$$\n",
    "P = \\left\\lbrace\n",
    "\\begin{array}{l}\n",
    "1 -p \\quad x =0\\\\\n",
    "p \\;\\;\\qquad x=1\\\\\n",
    "\\end{array}\n",
    "\\right.\n",
    "$$\n",
    "\n",
    "A typical Bernoulli trial distribution might look like in figure.\n",
    "\n",
    "<figure style=\"text-align:center\">\n",
    "  <img src=\"https://cdn.analyticsvidhya.com/wp-content/uploads/2017/09/18164417/Binomial-graph.png\" alt=\"\" style=\"width:60%;text-align:center\">\n",
    "  <figcaption style=\"text-align:center\">Example of a Bernoulli distribution</figcaption>\n",
    "</figure>"
   ]
  },
  {
   "cell_type": "markdown",
   "metadata": {},
   "source": [
    "#### Binomial\n",
    "\n",
    "The binomial distribution describes the number of success in $n$ independent $Bern(p)$.\n",
    "\n",
    "The PMF for a Binomial distribution for a variable $X \\sim Bin(n, p)$ is:\n",
    "\n",
    "$$ P(X=k) = \\binom{n}{k} p^k(1-p)^{n-k}$$\n",
    "\n"
   ]
  },
  {
   "cell_type": "code",
   "execution_count": 4,
   "metadata": {},
   "outputs": [
    {
     "data": {
      "image/png": "[encoded data removed]",
      "text/plain": [
       "<Figure size 1152x432 with 1 Axes>"
      ]
     },
     "metadata": {
      "needs_background": "light"
     },
     "output_type": "display_data"
    }
   ],
   "source": [
    "n = 1000\n",
    "p = 0.3\n",
    "binom_data = stats.binom.rvs(\n",
    "    n, p, \n",
    "    size=n\n",
    ")\n",
    "\n",
    "sns.distplot(binom_data, kde=False,\n",
    "    hist_kws={\"linewidth\":15})\n",
    "\n",
    "plt.title(f\"Binomial distribution of {n} trials with p={p}\")\n",
    "plt.ylabel(\"Number of occurences\")\n",
    "plt.xlabel(\"Number of successes\")\n",
    "plt.show()"
   ]
  },
  {
   "cell_type": "markdown",
   "metadata": {},
   "source": [
    "#### Poisson\n",
    "\n",
    "The Poisson distribution is used to model the number of events that occur in a limited time or space if these events occur with a known constant mean rate and independently of time or each other.\n",
    "\n",
    "Some examples that might be approximated by a Poisson distribution are:\n",
    " - The number of emergency calls recorded at a hospital in a day.\n",
    " - The number of thefts reported in an area on a day.\n",
    " - The number of customers arriving at a salon in an hour.\n",
    " - The number of printing errors at each page of the book.\n",
    "\n",
    "The PMF for a Poisson distribution for a variable $X \\sim Pois(\\lambda)$ is:\n",
    "\n",
    "$$P(X=k) = e^{-\\lambda} \\frac{\\lambda^k}{k!}$$"
   ]
  },
  {
   "cell_type": "code",
   "execution_count": 5,
   "metadata": {},
   "outputs": [
    {
     "data": {
      "image/png": "[encoded data removed]",
      "text/plain": [
       "<Figure size 1152x432 with 1 Axes>"
      ]
     },
     "metadata": {
      "needs_background": "light"
     },
     "output_type": "display_data"
    }
   ],
   "source": [
    "λ = 1\n",
    "pois_data = stats.poisson.rvs(λ, loc=1, size=n)\n",
    "\n",
    "sns.distplot(pois_data, kde=False,\n",
    "    hist_kws={\"linewidth\":15})\n",
    "\n",
    "plt.title(f\"Poisson distribution of {n} trials with λ={λ}\")\n",
    "plt.ylabel(\"Number of occurences\")\n",
    "plt.xlabel(\"Number of successes\")\n",
    "plt.show()"
   ]
  },
  {
   "cell_type": "markdown",
   "metadata": {},
   "source": [
    "## Continuous distributions\n",
    "\n",
    "#### Uniform\n",
    "\n",
    "As the name suggests, the Uniform distribution ($Unif(a, b)$) has the same value everywhere, with PDF:\n",
    "\n",
    "$$\n",
    "f(x) = \\left\\lbrace\n",
    "\\begin{array}{l}\n",
    "\\frac{1}{b-a} \\quad x \\in [a; b], b > a\\\\\n",
    "0 \\;\\;\\qquad \\text{otherwise}\\\\\n",
    "\\end{array}\n",
    "\\right.\n",
    "$$\n",
    "\n",
    "\n"
   ]
  },
  {
   "cell_type": "code",
   "execution_count": 6,
   "metadata": {},
   "outputs": [
    {
     "data": {
      "image/png": "[encoded data removed]",
      "text/plain": [
       "<Figure size 1152x432 with 1 Axes>"
      ]
     },
     "metadata": {
      "needs_background": "light"
     },
     "output_type": "display_data"
    }
   ],
   "source": [
    "\n",
    "unif_data = stats.uniform.rvs(size=1000000)\n",
    "# print(unif_data)\n",
    "\n",
    "sns.distplot(unif_data, kde=True)\n",
    "\n",
    "plt.title(f\"Uniform distribution of 1000000 events\")\n",
    "plt.ylabel(\"Number of occurences\")\n",
    "plt.show()\n"
   ]
  },
  {
   "cell_type": "markdown",
   "metadata": {},
   "source": [
    "#### Exponential\n",
    "\n",
    "The exponential distribution is often concerned with the amount of time until some specific event occurs. For example, the following events can be modeled using an Exponential distribution:\n",
    "\n",
    "1. Length of time beteeen metro arrivals,\n",
    "2. Length of time between arrivals at a gas station\n",
    "3. The life of an Air Conditioner\n",
    "4. ...\n",
    "\n",
    "The PDF of a variable $X \\sim Expo(\\lambda)$ is:\n",
    "\n",
    "\n",
    "$$f(x) = \\lambda e^{-\\lambda x} \\qquad \\lambda >0$$"
   ]
  },
  {
   "cell_type": "code",
   "execution_count": 7,
   "metadata": {},
   "outputs": [
    {
     "data": {
      "image/png": "[encoded data removed]",
      "text/plain": [
       "<Figure size 1152x432 with 1 Axes>"
      ]
     },
     "metadata": {
      "needs_background": "light"
     },
     "output_type": "display_data"
    }
   ],
   "source": [
    "λ = 1\n",
    "expo_data = stats.expon.rvs(0, scale=1/λ, size=n)\n",
    "\n",
    "sns.distplot(expo_data, kde=False, hist_kws={\"linewidth\":15}, kde_kws={})\n",
    "\n",
    "plt.title(f\"Exponential distribution of {n} trials with λ={λ}\")\n",
    "plt.ylabel(\"Number of occurences\")\n",
    "plt.xlabel(\"Number of successes\")\n",
    "plt.xlim(0, 6)\n",
    "plt.show()"
   ]
  },
  {
   "cell_type": "markdown",
   "metadata": {},
   "source": [
    "\n",
    "\n",
    "\n",
    "\n",
    "#### Normal\n",
    "\n",
    "NNormal distributions are important in statistics and are often used in the natural and social sciences to represent real-valued random variables whose distributions are not known.[1][2] Their importance is partly due to the central limit theorem.\n",
    "\n",
    "The PDF of a random variable X following a normal distribution, $X \\sim N(\\mu, \\sigma ^2)$, is given by:\n",
    "\n",
    "\n",
    "$$f(x) = \\frac{1}{\\sqrt{2\\pi\\sigma}} e^{-\\frac{1}{2} \\left( \\frac{X-\\mu}{\\sigma} \\right)^2}$$\n",
    "\n",
    "\n",
    "##### Relationship between probability and standard deviation\n",
    "\n",
    "\n",
    "<figure style=\"text-align:center\">\n",
    "  <img src=\"https://upload.wikimedia.org/wikipedia/commons/thumb/8/8c/Standard_deviation_diagram.svg/1280px-Standard_deviation_diagram.svg.png\n",
    "\" alt=\"\" style=\"width:60%;text-align:center\">\n",
    "  <figcaption style=\"text-align:center\">Relationship between $\\sigma$ and probability in  $N(\\mu, \\sigma^2)$</figcaption>\n",
    "</figure>\n",
    "\n"
   ]
  },
  {
   "cell_type": "markdown",
   "metadata": {},
   "source": [
    "# Probability\n",
    "\n",
    "<figure style=\"text-align:center\">\n",
    "  <img src=\"https://statisticsblog.com/wp-content/uploads/2012/10/ProbOfRightAnswer.jpg\" alt=\"\" style=\"width:60%;text-align:center\">\n",
    "  <figcaption style=\"text-align:center\">Probability!!</figcaption>\n",
    "</figure>\n",
    "\n",
    "There are two broad categories of probability interpretations which can be called \"physical\" and \"evidential\" probabilities. \n",
    "\n",
    "**Physical probabilities**, which are also called objective or frequency probabilities, are associated with random physical systems such as roulette wheels, rolling dice and radioactive atoms. In such systems, a given type of event (such as a die yielding a six) tends to occur at a persistent rate, or \"relative frequency\", in a long run of trials. Physical probabilities either explain, or are invoked to explain, these stable frequencies.\n",
    "\n",
    "**Evidential probability**, also called Bayesian probability, can be assigned to any statement whatsoever, even when no random process is involved, as a way to represent its subjective plausibility, or the degree to which the statement is supported by the available evidence. On most accounts, evidential probabilities are considered to be degrees of belief.\n",
    "\n",
    "## Conditional probability\n",
    "\n",
    "In probability theory, conditional probability is a measure of the probability of an event occurring given that another event has (by assumption, presumption, assertion or evidence) occurred.\n",
    "\n",
    "The probability of event $A$ occurring, given the event $B$ is indicated in notation as $P(A|B)$. This quantity can be measured in terms of $A$ and $B$ as:\n",
    "\n",
    "$$P(A|B) = \\frac{P(A \\cap B)}{P(B)}$$\n",
    "\n",
    "Bayes rule follows from this as:\n",
    "$$P(A|B) = \\frac{P(B|A)P(A)}{P(B)}$$\n",
    "\n",
    "\n",
    "#### Note\n",
    "\n",
    "In general $P(A|B) \\neq P(B|A)$. This is sometimes known as the prosecutor's fallacy due to its (mis)use in some infamous trials."
   ]
  },
  {
   "cell_type": "markdown",
   "metadata": {},
   "source": [
    "## Inference using conditional probabilities\n",
    "\n",
    "We will look at two examples:\n",
    "\n",
    "#### Example 1\n",
    "\n",
    "```\n",
    "A rare disease affects 1% of the population. A pharmaceutical company manufactures and distributes tests to detect the disease.\n",
    "The tests are advertised as '95% accurate'.\n",
    "\n",
    "What is the probability that a person has the disease, given that they tested positive?\n",
    "```\n",
    "\n",
    "\n",
    "#### Example 2\n",
    "\n",
    "```\n",
    "You are looking at a product on Amazon. The product is available at three different sellers.\n",
    "\n",
    " - The first seller has 3000 reviews and an average score of 85%.\n",
    " - The second seller has 5 reviews and an average score of 100%.\n",
    " - The third seller has 250 reviews and an average score of 88%.\n",
    " \n",
    " Which seller should you choose to maximize the probability of having a positive interaction?\n",
    "```"
   ]
  },
  {
   "cell_type": "code",
   "execution_count": null,
   "metadata": {},
   "outputs": [],
   "source": []
  },
  {
   "cell_type": "markdown",
   "metadata": {},
   "source": [
    "## Significance and hypothesis testing\n",
    "\n",
    "Hypothesis testing is used to assess the plausibility of a hypothesis by using sample data. Such data may come from a larger population, or from a data-generating process.  \n",
    "\n",
    "When performing hypothesis testing you always compare two different hypothesis:\n",
    " - $H_0$ (H-null) is the hypothesis that negates what you are trying to prove (i.e. no effect).\n",
    " - $H_1$ is the hypothesis that there is an effect on the population.\n",
    " \n",
    "The most used parameter that describes hypothesis testing is the **p-value**.  \n",
    "\n",
    "The **p-value** is defined as the probability of obtaining test results at least as extreme as the results actually observed during the test, **assuming that the null hypothesis is correct**."
   ]
  },
  {
   "cell_type": "markdown",
   "metadata": {},
   "source": [
    "#### Example\n",
    "\n",
    "```\n",
    "A goalkeeper in his career has blocked 27 out of 50 penalty kicks.\n",
    "\n",
    "Can we assert that his long term block average is over 50%?\n",
    "What if the blocks are 270 over 500?\n",
    "```"
   ]
  },
  {
   "cell_type": "code",
   "execution_count": null,
   "metadata": {},
   "outputs": [],
   "source": []
  },
  {
   "cell_type": "markdown",
   "metadata": {},
   "source": [
    "## Law of Large Numbers (LLN)\n",
    "\n",
    "LLN is a **theorem** that describes the result of performing the same experiment a large number of times. According to the law, the average of the results obtained from a large number of trials should be close to the expected value and will tend to become closer to the expected value as more trials are performed.\n",
    "\n",
    "This guarantees stable long term results for repeated experiments!\n",
    "\n",
    "There are two different formulations of this law that applies under different assumptions.\n",
    "\n",
    "#### Weak Law\n",
    "\n",
    "The weak law of large numbers states that the sample average  $$\\overline{X}_n = \\frac{1}{n} \\sum_i^n X_i$$ converges in probability towards the expected value.\n",
    "\n",
    "$$ \\overline{X}_n \\xrightarrow[]{P} \\mu  \\quad as \\;n \\rightarrow \\infty$$\n",
    "\n",
    "which translates into:\n",
    "\n",
    "$$\\lim_{n\\rightarrow \\infty} P\\left( | \\overline{X}_n - \\mu| > \\varepsilon \\right)= 0 \\qquad \\forall \\varepsilon > 0$$\n",
    "\n",
    "\n",
    "#### Strong Law\n",
    "The strong law of large numbers states that the sample average $$\\overline{X}_n = \\frac{1}{n} \\sum_i^n X_i$$ converges almost surely to the expected value\n",
    "\n",
    "$$ \\overline{X}_n \\xrightarrow[]{a.s.} \\mu  \\quad as \\;n \\rightarrow \\infty$$\n",
    "\n",
    "which translates into:\n",
    "\n",
    "$$P\\left(\\lim_{n\\rightarrow \\infty} \\overline{X}_n = \\mu \\right) = 1$$\n",
    "\n",
    "#### Implications"
   ]
  },
  {
   "cell_type": "markdown",
   "metadata": {},
   "source": [
    "## Central Limit Theorem (CLT)\n",
    "The CLT is a consequence of the LLN and it's probably one of the most useful theorems in statistics.\n",
    "\n",
    "The statements is that, given a sum of $n$ $iid$ random variables, their distribution converges to $N(\\mu, \\sigma^2)$ as $n \\rightarrow \\infty$.\n",
    "\n",
    "\n",
    "\n",
    "<figure style=\"text-align:center\">\n",
    "  <img src=\"https://upload.wikimedia.org/wikipedia/commons/thumb/7/7b/IllustrationCentralTheorem.png/1280px-IllustrationCentralTheorem.png\" alt=\"\" style=\"width:60%;text-align:center\">\n",
    "  <figcaption style=\"text-align:center\">CLT illustrated</figcaption>\n",
    "</figure>\n",
    "\n",
    "\n",
    "#### Formulation\n",
    "\n"
   ]
  },
  {
   "cell_type": "markdown",
   "metadata": {},
   "source": [
    " #### Example of an application of LLN and CLT\n",
    "\n",
    "```\n",
    "How can we estimate how many items are classified correctly in our database?\n",
    "```"
   ]
  }
 ],
 "metadata": {
  "kernelspec": {
   "display_name": "Python 3",
   "language": "python",
   "name": "python3"
  },
  "language_info": {
   "codemirror_mode": {
    "name": "ipython",
    "version": 3
   },
   "file_extension": ".py",
   "mimetype": "text/x-python",
   "name": "python",
   "nbconvert_exporter": "python",
   "pygments_lexer": "ipython3",
   "version": "3.7.1"
  }
 },
 "nbformat": 4,
 "nbformat_minor": 2
}
