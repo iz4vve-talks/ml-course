{
 "cells": [
  {
   "cell_type": "markdown",
   "metadata": {},
   "source": [
    "# Misuses of statistics and caveats\n",
    "\n",
    "The reason why knowing statistics is so important for a Data Scientist or ML Engineer is avoiding misinterpretations.\n",
    "\n",
    "There are many hidden caveats and apparent paradoxes that come from statistics and probability that might make data interpretation wrong."
   ]
  },
  {
   "cell_type": "markdown",
   "metadata": {},
   "source": [
    "### Simpson's paradox\n",
    "\n",
    "Simpson's paradox is a phenomenon in probability and statistics, in which a trend appears in several different groups of data but disappears or reverses when these groups are combined. This result is often encountered in social-science and medical-science statistics.\n",
    "\n",
    "A famous example of this paradox relates to the UC Berkely graduate admission gender bias (1973).\n",
    "\n",
    "♂ applicants | ♂ acceptance rate | ♀ applicants | ♀ acceptance rate\n",
    "-------------|-------------------|--------------|-------------------\n",
    "8442         |              44%  |       4321   |               35%\n",
    "\n",
    "The data make it look like there is a significant bias towards men in admission rates, however, when we look at the data split by department:\n",
    "\n",
    "department  | ♂ applicants | ♂ acceptance rate | ♀ applicants | ♀ acceptance rate\n",
    "------------|--------------|-------------------|--------------|-------------------\n",
    "       A    |   825        |              62%  |       108    |            **82%**\n",
    "          B | 560          |     63%           | 25           | **68%**\n",
    "          C |25            |**37%**            |   593        |    34% \n",
    "    D       |417           |   33%             | 375          |   **35%**\n",
    "        E   | 191          |   **28%**         | 393          |   24%\n",
    "        F   | 373          |   6%              |   341        |   **7%**\n",
    "\n",
    "\n",
    "\n",
    "#### Visual interpretation of Simpson's paradox\n",
    "\n",
    "<figure style=\"text-align:center\">\n",
    "  <img src=\"https://upload.wikimedia.org/wikipedia/commons/f/fb/Simpsons_paradox_-_animation.gif\" alt=\"\" style=\"width:60%;text-align:center\">\n",
    "  <figcaption style=\"text-align:center\">Alternate visualization of Simpson's paradox</figcaption>\n",
    "</figure>"
   ]
  },
  {
   "cell_type": "markdown",
   "metadata": {},
   "source": [
    "### Anscombe quartet\n",
    "\n",
    "Anscombe's quartet comprises four data sets that have nearly identical simple descriptive statistics, yet have very different distributions and appear very different when graphed. This highlights the importance of understanding the data before analyzing it.\n",
    "\n",
    "\n",
    "<figure style=\"text-align:center\">\n",
    "  <img src=\"https://upload.wikimedia.org/wikipedia/commons/thumb/e/ec/Anscombe%27s_quartet_3.svg/1280px-Anscombe%27s_quartet_3.svg.png\" alt=\"\" style=\"width:60%;text-align:center\">\n",
    "  <figcaption style=\"text-align:center\">Original Anscombe's quartet</figcaption>\n",
    "</figure>\n",
    "\n",
    "\n",
    "##### A funnier version\n",
    "\n",
    "<figure style=\"text-align:center\">\n",
    "  <img src=\"https://i2.wp.com/blog.revolutionanalytics.com/downloads/DataSaurus%20Dozen.gif\" alt=\"\" style=\"width:60%;text-align:center\">\n",
    "  <figcaption style=\"text-align:center\">Basic statistics might be misleading</figcaption>\n",
    "</figure>  "
   ]
  },
  {
   "cell_type": "code",
   "execution_count": null,
   "metadata": {},
   "outputs": [],
   "source": [
    "### Proof of null hypothesis"
   ]
  },
  {
   "cell_type": "code",
   "execution_count": null,
   "metadata": {},
   "outputs": [],
   "source": [
    "### P-hacking"
   ]
  },
  {
   "cell_type": "code",
   "execution_count": null,
   "metadata": {},
   "outputs": [],
   "source": [
    "### Correlation and causation"
   ]
  },
  {
   "cell_type": "code",
   "execution_count": null,
   "metadata": {},
   "outputs": [],
   "source": [
    "### Birthday paradox"
   ]
  },
  {
   "cell_type": "code",
   "execution_count": null,
   "metadata": {},
   "outputs": [],
   "source": [
    "### Monty Hall problem"
   ]
  },
  {
   "cell_type": "code",
   "execution_count": null,
   "metadata": {},
   "outputs": [],
   "source": [
    "### Prosecutor's fallacy"
   ]
  },
  {
   "cell_type": "code",
   "execution_count": null,
   "metadata": {},
   "outputs": [],
   "source": [
    "\n",
    "\n",
    "\n",
    "\n",
    "A causes B.\n",
    "B causes A.\n",
    "A and B both partly cause each other.\n",
    "A and B are both caused by a third factor, C.\n",
    "B is caused by C which is correlated to A.\n",
    "The observed correlation was due purely to chance."
   ]
  }
 ],
 "metadata": {
  "kernelspec": {
   "display_name": "Python 3",
   "language": "python",
   "name": "python3"
  },
  "language_info": {
   "codemirror_mode": {
    "name": "ipython",
    "version": 3
   },
   "file_extension": ".py",
   "mimetype": "text/x-python",
   "name": "python",
   "nbconvert_exporter": "python",
   "pygments_lexer": "ipython3",
   "version": "3.7.1"
  }
 },
 "nbformat": 4,
 "nbformat_minor": 2
}
