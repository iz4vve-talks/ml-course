{
 "cells": [
  {
   "cell_type": "markdown",
   "metadata": {},
   "source": [
    "# An introduction to Machine Learning\n",
    "\n",
    "\n",
    "## Purpose of the course\n",
    "\n",
    " 1. Provide an overview of what Machine Learning is and the tools it uses.\n",
    " 2. Provide the basics of statistics and data analysis.\n",
    " 3. Show an overview of machine Learning techniques.\n",
    " 4. Provide best practices for data interpretation and visualisation.\n",
    " 5. Provide necessary knowledge to understand basicevaluation of Machine Learning algorithms.\n",
    "\n",
    "## Some references\n",
    "\n",
    " - **Understanding Machine Learning: From Theory to Algorithms**\n",
    "by Shai Shalev-Shwartz and Shai Ben-David\n",
    "\n",
    " - **Scikit-Learn Tutorial: Statistical-Learning for Scientific Data Processing**\n",
    "by Andreas Mueller\n",
    "\n",
    " - **Building Machine Learning Systems with Python**\n",
    "by Willi Richert and Luis Pedro Coelho\n",
    "\n",
    " - **An Introduction to Statistical Learning (with applications in R)**\n",
    "by Gareth James, Daniela Witten, Trevor Hastie and Robert Tibshirani\n",
    "\n",
    " - **Deep Learning**\n",
    "by Ian Goodfellow and Yoshua Bengio and Aaron Courville"
   ]
  },
  {
   "cell_type": "markdown",
   "metadata": {},
   "source": [
    "# Setting un the environment\n",
    "\n",
    "## Installing Miniconda Python\n",
    "\n",
    "Miniconda is a free minimal installer for conda. It is a small, bootstrap version of Anaconda that includes only conda, Python, the packages they depend on, some useful ML libraries, and a small number of other useful packages, including pip, zlib and a few others. Use the conda install command to install 720+ additional conda packages from the Anaconda repository.\n",
    "\n",
    "Install scripts are available for Linux, Windows, and MacOS. Since most of use use a Mac, I will only show you how to install on this OS. Instructions are available for other platforms [here](https://conda.io/projects/conda/en/latest/user-guide/install/index.html).\n",
    "\n",
    "### Get the installer\n",
    "Installer for MacOS can be downloaded from [here](https://repo.anaconda.com/miniconda/Miniconda3-latest-MacOSX-x86_64.sh).\n",
    "\n",
    "Then you just need to run \n",
    "```bash\n",
    "$ bash Miniconda3-latest-MacOSX-x86_64.sh\n",
    "```\n",
    "\n",
    "You can specify the installation directory, if you so wish. The default is `/home/$USER/miniconda3`."
   ]
  },
  {
   "cell_type": "markdown",
   "metadata": {},
   "source": [
    "$ jupyter lab"
   ]
  },
  {
   "cell_type": "markdown",
   "metadata": {},
   "source": [
    "# Some important libraries  (*there is a module for that...*)\n",
    "\n",
    "## `numpy`\n",
    "\n",
    "NumPy is the fundamental package for scientific computing with Python. It contains among other things:\n",
    "\n",
    " - a powerful N-dimensional array object;\n",
    " - broadcasting functions;\n",
    " - tools for integrating C/C++ and Fortran code;\n",
    " - useful linear algebra, Fourier transform, and random number capabilities.\n",
    "\n",
    "NumPy can be used as an efficient multi-dimensional container of generic data. Arbitrary data-types can be defined. Since the low-level implementation of numerical routines in NumPy is in C, the calculations are blazing fast.\n",
    "\n",
    "## `pandas`\n",
    "\n",
    "`pandas` is a fast, powerful, flexible and easy to use open source data analysis and manipulation tool,\n",
    "built on top of the Python programming language.\n",
    "`pandas` uses `numpy` under the hood to ensure all data operations are as fast as possible (if you use the right tools).\n",
    "\n",
    "Pandas is going to be that base of our data handling and we'll get to know it intimately.\n",
    "\n",
    "## `matplotlib` and `seaborn`\n",
    "\n",
    "Libraries to generate beautiful plots and graphs. We will use these to view our data.\n",
    "\n",
    "## `scipy`\n",
    "\n",
    "The SciPy ecosystem is built on top of Python and NumPy.\n",
    "\n",
    "It includes:\n",
    "\n",
    " - The SciPy library, a collection of numerical algorithms and domain-specific toolboxes, including signal processing, optimization, statistics, and much more.\n",
    " - Matplotlib, a mature and popular plotting package that provides publication-quality 2-D plotting, as well as rudimentary 3-D plotting.\n",
    "\n",
    "On this base, the SciPy ecosystem includes general and specialised tools for data management and computation, productive experimentation, and high-performance computing.\n",
    "\n",
    "## `scikit-learn`\n",
    "\n",
    "Efficient library for data analysis and predictive modeling. It provides access to a plethora of Machine LEarning algorithms using a simple and linear API.\n",
    "\n",
    "## `statsmodels`\n",
    "\n",
    "Statistical modeling, and hypothesis testing.\n",
    "\n",
    "-------------\n",
    "\n",
    "## Deep Learning toolkits\n",
    "\n",
    "### `Tensorflow`\n",
    "\n",
    "Tensorflow is an open source platform for Machine Learning developed by Google.\n",
    "\n",
    "### `Keras`\n",
    "\n",
    "\n",
    "### `Pytorch`"
   ]
  },
  {
   "cell_type": "markdown",
   "metadata": {},
   "source": [
    "<img src=\"https://www.dataiku.com/static/img/learn/guide/getting-started/getting-started-with-python/logo-stack-python.png\">"
   ]
  },
  {
   "cell_type": "markdown",
   "metadata": {},
   "source": [
    "# Some basic syntax\n",
    "\n",
    "## `pandas` - data manipulation"
   ]
  },
  {
   "cell_type": "code",
   "execution_count": null,
   "metadata": {},
   "outputs": [],
   "source": [
    "# standard import (usually aliased as `pd`)\n",
    "import pandas as pd"
   ]
  },
  {
   "cell_type": "markdown",
   "metadata": {},
   "source": [
    "#### Series"
   ]
  },
  {
   "cell_type": "code",
   "execution_count": null,
   "metadata": {},
   "outputs": [],
   "source": [
    "# basic structure\n",
    "series = pd.Series([1, 2, 3, 4])"
   ]
  },
  {
   "cell_type": "code",
   "execution_count": null,
   "metadata": {},
   "outputs": [],
   "source": [
    "series"
   ]
  },
  {
   "cell_type": "markdown",
   "metadata": {},
   "source": [
    "#### Dataframe\n",
    "\n",
    "A collection of (named) series is a dataframe."
   ]
  },
  {
   "cell_type": "code",
   "execution_count": null,
   "metadata": {},
   "outputs": [],
   "source": [
    "df = pd.DataFrame([[1, 2, 3], [2, 4, 6]], columns=[\"number\", \"doubles\", \"triples\"])"
   ]
  },
  {
   "cell_type": "code",
   "execution_count": null,
   "metadata": {},
   "outputs": [],
   "source": [
    "df"
   ]
  },
  {
   "cell_type": "code",
   "execution_count": null,
   "metadata": {},
   "outputs": [],
   "source": [
    "# selecting columns\n",
    "df[\"doubles\"]"
   ]
  },
  {
   "cell_type": "code",
   "execution_count": null,
   "metadata": {},
   "outputs": [],
   "source": [
    "# subset of columns\n",
    "df[[\"number\", \"triples\"]]"
   ]
  },
  {
   "cell_type": "code",
   "execution_count": null,
   "metadata": {},
   "outputs": [],
   "source": [
    "# masking\n",
    "df[\"triples\"] == 6"
   ]
  },
  {
   "cell_type": "code",
   "execution_count": null,
   "metadata": {},
   "outputs": [],
   "source": [
    "# filtering using masks\n",
    "df[df[\"triples\"] == 6]"
   ]
  },
  {
   "cell_type": "code",
   "execution_count": null,
   "metadata": {},
   "outputs": [],
   "source": [
    "# selecting specific rows\n",
    "df.loc[0]  # by index"
   ]
  },
  {
   "cell_type": "code",
   "execution_count": null,
   "metadata": {},
   "outputs": [],
   "source": [
    "df.iloc[1] # by position"
   ]
  },
  {
   "cell_type": "markdown",
   "metadata": {},
   "source": [
    "## `scikit-learn` - ML algorithms\n",
    "\n",
    "`scikit-learn` follows a general API structure for all of its components. The most common used methods are `fit`, `transform`, `fit_transform`, and `predict`.\n",
    "\n",
    "We will see moree of this when we deal with the first Machine Learning examples."
   ]
  },
  {
   "cell_type": "markdown",
   "metadata": {},
   "source": [
    "# Practice"
   ]
  },
  {
   "cell_type": "code",
   "execution_count": null,
   "metadata": {},
   "outputs": [],
   "source": [
    "from sklearn.datasets import load_wine\n",
    "\n",
    "wine = load_wine()\n",
    "\n",
    "df = pd.DataFrame(wine[\"data\"], columns=wine[\"feature_names\"])\n",
    "target = wine[\"target\"]"
   ]
  },
  {
   "cell_type": "code",
   "execution_count": null,
   "metadata": {},
   "outputs": [],
   "source": [
    "df.head()"
   ]
  },
  {
   "cell_type": "markdown",
   "metadata": {},
   "source": [
    "Find:\n",
    " - The average phenol content of all the wines.\n",
    " - How many wines have an alcohol content <12%.\n",
    " - The wine with the highest alcohol content.\n",
    " - The median content of malic acid for all wines that have more than 13.5% alcohol content.\n",
    " - The wines with alcohol content >12% and  magnesium content >100."
   ]
  }
 ],
 "metadata": {
  "kernelspec": {
   "display_name": "Python 3",
   "language": "python",
   "name": "python3"
  },
  "language_info": {
   "codemirror_mode": {
    "name": "ipython",
    "version": 3
   },
   "file_extension": ".py",
   "mimetype": "text/x-python",
   "name": "python",
   "nbconvert_exporter": "python",
   "pygments_lexer": "ipython3",
   "version": "3.7.1"
  }
 },
 "nbformat": 4,
 "nbformat_minor": 2
}
