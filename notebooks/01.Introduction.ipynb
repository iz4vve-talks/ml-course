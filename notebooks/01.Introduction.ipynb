{
 "cells": [
  {
   "cell_type": "markdown",
   "metadata": {},
   "source": [
    "# An introduction to Machine Learning\n",
    "\n",
    "\n",
    "## Purpose of the course\n",
    "\n",
    "## What we will see\n",
    "\n",
    "### Some terminology\n",
    "\n",
    "## Some references"
   ]
  },
  {
   "cell_type": "code",
   "execution_count": null,
   "metadata": {},
   "outputs": [],
   "source": []
  },
  {
   "cell_type": "code",
   "execution_count": null,
   "metadata": {},
   "outputs": [],
   "source": []
  },
  {
   "cell_type": "code",
   "execution_count": null,
   "metadata": {},
   "outputs": [],
   "source": []
  },
  {
   "cell_type": "code",
   "execution_count": null,
   "metadata": {},
   "outputs": [],
   "source": []
  },
  {
   "cell_type": "code",
   "execution_count": 8,
   "metadata": {},
   "outputs": [],
   "source": [
    "import re"
   ]
  },
  {
   "cell_type": "code",
   "execution_count": 56,
   "metadata": {},
   "outputs": [],
   "source": [
    "from typing import List\n",
    "\n",
    "percent_regex = \"\\d{1,3}\\s?%\\s?[a-zA-Z]+\"\n",
    "composition_regex = \"(self|lining|contrast)\"\n",
    "\n",
    "\n",
    "def get_materials(text: str) -> List[str]:\n",
    "    materials = re.findall(percent_regex, text.lower())\n",
    "    \n",
    "    clean = [i.replace(\" \", \"\").replace(\"%\", \"% \") for i in materials]  # needs filter on accepted materials\n",
    "    components = re.findall(composition_regex, text.lower())\n",
    "    return clean, components"
   ]
  },
  {
   "cell_type": "code",
   "execution_count": 57,
   "metadata": {},
   "outputs": [],
   "source": [
    "s = \"\"\"\n",
    "    <ul>\n",
    "    <li>Available in Medium Wash</li>\n",
    "    <li>Denim Jumpsuit</li>\n",
    "    <li>Adjustable Straps</li>\n",
    "    <li>Lined Bust</li>\n",
    "    <li>Back Zipper</li>\n",
    "    <li>Stretch</li>\n",
    "    <li>Self: 45% Cotton 30%Rayon 23% Polyester 2% Spandex </li>\n",
    "    <li>Lining: 100% Polyester </li>\n",
    "    <li>Contrast: 50% Polyester 50% cotton</li>\n",
    "    </ul><br>\n",
    "\"\"\""
   ]
  },
  {
   "cell_type": "code",
   "execution_count": 58,
   "metadata": {},
   "outputs": [
    {
     "data": {
      "text/plain": [
       "(['45% cotton',\n",
       "  '30% rayon',\n",
       "  '23% polyester',\n",
       "  '2% spandex',\n",
       "  '100% polyester',\n",
       "  '50% polyester',\n",
       "  '50% cotton'],\n",
       " ['self', 'lining', 'contrast'])"
      ]
     },
     "execution_count": 58,
     "metadata": {},
     "output_type": "execute_result"
    }
   ],
   "source": [
    "get_materials(s)"
   ]
  },
  {
   "cell_type": "code",
   "execution_count": 59,
   "metadata": {},
   "outputs": [],
   "source": [
    "x, y = get_materials(s)"
   ]
  },
  {
   "cell_type": "code",
   "execution_count": 65,
   "metadata": {},
   "outputs": [],
   "source": [
    "import functools\n",
    "import numpy as np"
   ]
  },
  {
   "cell_type": "code",
   "execution_count": 75,
   "metadata": {},
   "outputs": [
    {
     "data": {
      "text/plain": [
       "['45% cotton', '30% rayon', '23% polyester', '2% spandex']"
      ]
     },
     "execution_count": 75,
     "metadata": {},
     "output_type": "execute_result"
    }
   ],
   "source": [
    "x[:np.argwhere(np.cumsum([int(i.split(\"%\")[0]) for i in x]) == 100)[0][0] + 1]"
   ]
  },
  {
   "cell_type": "code",
   "execution_count": null,
   "metadata": {},
   "outputs": [],
   "source": []
  }
 ],
 "metadata": {
  "kernelspec": {
   "display_name": "Python 3",
   "language": "python",
   "name": "python3"
  },
  "language_info": {
   "codemirror_mode": {
    "name": "ipython",
    "version": 3
   },
   "file_extension": ".py",
   "mimetype": "text/x-python",
   "name": "python",
   "nbconvert_exporter": "python",
   "pygments_lexer": "ipython3",
   "version": "3.7.2"
  }
 },
 "nbformat": 4,
 "nbformat_minor": 2
}
