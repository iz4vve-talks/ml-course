{
 "cells": [
  {
   "cell_type": "markdown",
   "metadata": {},
   "source": [
    "# Supervised Learning: Classification"
   ]
  },
  {
   "cell_type": "markdown",
   "metadata": {},
   "source": [
    "Broadly speaking, we can identify three main operational areas in ML:\n",
    "\n",
    "- Supervised Learning;\n",
    "- Unsupervised Learning;\n",
    "- Reinforcement Learning.\n",
    "\n",
    "## Machine Learning areas\n",
    "\n",
    "![alt text](../resources/machine-learning.png \"Title\")\n",
    "\n",
    "\n",
    "We are talking about supervised learning when we have a set of targets and we want our model to learn to recognize patterns and associate data points to a specific target.\n",
    "\n",
    "Targets can be either:\n",
    "- numeric (regression);\n",
    "- categorical (classification).\n",
    "\n",
    "Today we'll focus on the latter."
   ]
  },
  {
   "cell_type": "markdown",
   "metadata": {},
   "source": [
    "## Introduction to classification\n",
    "\n",
    "We have a dataset and a set of targets (labels) for each data point.\n",
    "\n",
    "In general terms, when performing classification, we are trying to represent all items in a multidimensional space and to find a boundary between different groups.  \n",
    "We can achieve this in two ways:\n",
    "\n",
    "#### Transforming the data so that the classes are lineraly separable\n",
    "\n",
    "<figure style=\"text-align:center\">\n",
    "  <img src=\"https://i2.wp.com/appliedmachinelearning.blog/wp-content/uploads/2017/03/svm_logo1.png?fit=392%2C374&ssl=1\" alt=\"\" style=\"width:40%;text-align:center\">\n",
    "  <figcaption style=\"text-align:center\">Linear (planar) separation in space</figcaption>\n",
    "</figure>\n",
    "\n",
    "\n",
    "\n",
    "#### Using non-linear algorithms\n",
    "\n",
    "\n",
    "<figure style=\"text-align:center\">\n",
    "  <img src=\"https://cdn-images-1.medium.com/max/1600/1*5l08QfsUsrsOxcPzfDoStg.png\" alt=\"\" style=\"width:70%;text-align:center\">\n",
    "  <figcaption style=\"text-align:center\">Linear vs nonlinear model</figcaption>\n",
    "</figure>"
   ]
  },
  {
   "cell_type": "code",
   "execution_count": null,
   "metadata": {},
   "outputs": [],
   "source": [
    "# numpy for algebra\n",
    "import numpy as np\n",
    "# pandas for data manipulation\n",
    "import pandas as pd\n",
    "# sklearn for machine learning\n",
    "from sklearn import datasets\n",
    "\n",
    "# matplotlib an d seaborn for plotting and graphs\n",
    "import matplotlib.pyplot as plt\n",
    "import seaborn as sns"
   ]
  },
  {
   "cell_type": "code",
   "execution_count": null,
   "metadata": {},
   "outputs": [],
   "source": [
    "plt.rcParams[\"figure.figsize\"] = 16, 3"
   ]
  },
  {
   "cell_type": "markdown",
   "metadata": {},
   "source": [
    "## Binary classification\n",
    "\n",
    "We will use some datasets bundled with scikit learn. For binary classification we will use the breast cancer detection set.\n",
    "\n",
    "Some details below:\n",
    "\n",
    "\n",
    "\n",
    "Breast cancer wisconsin (diagnostic) dataset\n",
    "--------------------------------------------\n",
    "\n",
    "**Data Set Characteristics:**\n",
    "\n",
    "This is a copy of UCI ML Breast Cancer Wisconsin (Diagnostic) datasets.  \n",
    "https://goo.gl/U2Uwz2 \n",
    "  \n",
    "Features are computed from a digitized image of a fine needle  \n",
    "aspirate (FNA) of a breast mass.  They describe  \n",
    "characteristics of the cell nuclei present in the image.  "
   ]
  },
  {
   "cell_type": "code",
   "execution_count": null,
   "metadata": {},
   "outputs": [],
   "source": [
    "bc_dataset = datasets.load_breast_cancer()"
   ]
  },
  {
   "cell_type": "code",
   "execution_count": null,
   "metadata": {},
   "outputs": [],
   "source": [
    "df = pd.DataFrame(bc_dataset[\"data\"], columns=bc_dataset[\"feature_names\"])"
   ]
  },
  {
   "cell_type": "code",
   "execution_count": null,
   "metadata": {},
   "outputs": [],
   "source": [
    "df.head()"
   ]
  },
  {
   "cell_type": "code",
   "execution_count": null,
   "metadata": {},
   "outputs": [],
   "source": [
    "target = pd.Series(bc_dataset[\"target\"])"
   ]
  },
  {
   "cell_type": "code",
   "execution_count": null,
   "metadata": {},
   "outputs": [],
   "source": [
    "target.head()"
   ]
  },
  {
   "cell_type": "code",
   "execution_count": null,
   "metadata": {},
   "outputs": [],
   "source": [
    "# class balance\n",
    "target.value_counts()"
   ]
  },
  {
   "cell_type": "code",
   "execution_count": null,
   "metadata": {},
   "outputs": [],
   "source": [
    "bc_dataset[\"target_names\"]"
   ]
  },
  {
   "cell_type": "markdown",
   "metadata": {},
   "source": [
    "### The algorithm\n",
    "\n",
    "For this example we will use one of the simplest algorithms available for binary classification: Logistic Regression.\n",
    "\n",
    "We are trying to get a combination of the features (x axis) such that a logistic curve can differentiate the two classes (y axis).\n",
    "\n",
    "\n",
    "<figure style=\"text-align:center\">\n",
    "  <img src=\"https://upload.wikimedia.org/wikipedia/commons/6/6d/Exam_pass_logistic_curve.jpeg\" alt=\"\" style=\"width:50%;text-align:center\">\n",
    "  <figcaption style=\"text-align:center\"> Example of logistic regression - probability of passing an exam vs hours of studying</figcaption>\n",
    "</figure>\n",
    "\n",
    "\n",
    "As simplistic as this may sound, it actually works well in a lot of real world situations."
   ]
  },
  {
   "cell_type": "markdown",
   "metadata": {},
   "source": [
    "### Data exploration and preparation\n",
    "\n",
    "In any scenario when we are trying to fit data to a label, we must ensure that our model retains predictive power (avoid overfitting!).\n",
    "\n",
    "To do so we need to split the data so that we can run the evaluation on data points the model has not seen before (testing generalization)."
   ]
  },
  {
   "cell_type": "code",
   "execution_count": null,
   "metadata": {},
   "outputs": [],
   "source": [
    "# correlations\n",
    "plt.rcParams[\"figure.figsize\"] = 15, 15\n",
    "sns.heatmap(df.corr(), annot=True)"
   ]
  },
  {
   "cell_type": "code",
   "execution_count": null,
   "metadata": {},
   "outputs": [],
   "source": [
    "import tqdm\n",
    "from sklearn.preprocessing import StandardScaler\n",
    "\n",
    "scalers = {}\n",
    "\n",
    "for column in tqdm.tqdm(df.columns):\n",
    "    _scaler = StandardScaler()\n",
    "    _scaler.fit(df[column].values.reshape(-1, 1))\n",
    "    scalers[column] = _scaler"
   ]
  },
  {
   "cell_type": "code",
   "execution_count": null,
   "metadata": {},
   "outputs": [],
   "source": [
    "# transform the columns\n",
    "import copy\n",
    "\n",
    "data = copy.deepcopy(df)\n",
    "\n",
    "for column in tqdm.tqdm(df.columns):\n",
    "    data[column] = scalers[column].transform(df[column].values.reshape(-1, 1))"
   ]
  },
  {
   "cell_type": "code",
   "execution_count": null,
   "metadata": {},
   "outputs": [],
   "source": [
    "data.head()"
   ]
  },
  {
   "cell_type": "code",
   "execution_count": null,
   "metadata": {},
   "outputs": [],
   "source": [
    "# random split of data\n",
    "from sklearn import model_selection\n",
    "\n",
    "train, test, target_train, target_test = model_selection.train_test_split(data, target)"
   ]
  },
  {
   "cell_type": "code",
   "execution_count": null,
   "metadata": {},
   "outputs": [],
   "source": [
    "train.shape, test.shape"
   ]
  },
  {
   "cell_type": "markdown",
   "metadata": {},
   "source": [
    "### Training and evaluation"
   ]
  },
  {
   "cell_type": "code",
   "execution_count": null,
   "metadata": {},
   "outputs": [],
   "source": [
    "# instantiate the model\n",
    "from sklearn.linear_model import LogisticRegression\n",
    "\n",
    "lr = LogisticRegression()"
   ]
  },
  {
   "cell_type": "code",
   "execution_count": null,
   "metadata": {},
   "outputs": [],
   "source": []
  },
  {
   "cell_type": "markdown",
   "metadata": {},
   "source": [
    "We can check the training score to see if the model is learning something from the data..."
   ]
  },
  {
   "cell_type": "code",
   "execution_count": null,
   "metadata": {},
   "outputs": [],
   "source": []
  },
  {
   "cell_type": "markdown",
   "metadata": {},
   "source": [
    "It looks like the training score is very high (always between 0 and 1). The model is learning a lot about the data.\n",
    "\n",
    "But is it learning patterns or is it just memorizing this specific dataset?"
   ]
  },
  {
   "cell_type": "markdown",
   "metadata": {},
   "source": [
    "### Evaluation\n",
    "\n",
    "We use the test set to run evaluation and verify how well the model is behaving."
   ]
  },
  {
   "cell_type": "code",
   "execution_count": null,
   "metadata": {},
   "outputs": [],
   "source": []
  },
  {
   "cell_type": "code",
   "execution_count": null,
   "metadata": {},
   "outputs": [],
   "source": []
  },
  {
   "cell_type": "code",
   "execution_count": null,
   "metadata": {},
   "outputs": [],
   "source": []
  },
  {
   "cell_type": "markdown",
   "metadata": {},
   "source": [
    "**What do these numbers mean?**\n",
    "\n",
    "<figure style=\"text-align:center\">\n",
    "  <img src=\"https://www.digital-mr.com/media/cache/5e/b4/5eb4dbc50024c306e5f707736fd79c1e.png\" alt=\"\" style=\"width:90%;text-align:center\">\n",
    "  <figcaption style=\"text-align:center\"> Precision and recall</figcaption>\n",
    "</figure>"
   ]
  },
  {
   "cell_type": "markdown",
   "metadata": {},
   "source": [
    "The confusion matrix shows in detail what errors we are committing."
   ]
  },
  {
   "cell_type": "code",
   "execution_count": null,
   "metadata": {},
   "outputs": [],
   "source": []
  },
  {
   "cell_type": "markdown",
   "metadata": {},
   "source": [
    "## Multiclass classification\n",
    "\n",
    "As the name suggests we are dealing with multiple classes. Some methods need to change in order to cope with the new problem configuration.\n",
    "\n",
    "\n",
    "<figure style=\"text-align:center\">\n",
    "  <img src=\"https://i.stack.imgur.com/La40O.jpg\" alt=\"\" style=\"width:60%;text-align:center\">\n",
    "  <figcaption style=\"text-align:center\">Multiclass classification</figcaption>\n",
    "</figure>\n",
    "\n",
    "\n",
    "\n",
    "Also, some algorithms don't work anymore (such as Logistic regression*).\n",
    "\n",
    "We will use the wine dataset!"
   ]
  },
  {
   "cell_type": "code",
   "execution_count": null,
   "metadata": {},
   "outputs": [],
   "source": [
    "wine = datasets.load_wine()"
   ]
  },
  {
   "cell_type": "code",
   "execution_count": null,
   "metadata": {},
   "outputs": [],
   "source": [
    "df = pd.DataFrame(wine[\"data\"], columns=wine[\"feature_names\"])"
   ]
  },
  {
   "cell_type": "code",
   "execution_count": null,
   "metadata": {},
   "outputs": [],
   "source": [
    "target = pd.Series(wine[\"target\"])"
   ]
  },
  {
   "cell_type": "markdown",
   "metadata": {},
   "source": [
    "### Data exploration, preparation, and fitting."
   ]
  },
  {
   "cell_type": "code",
   "execution_count": null,
   "metadata": {},
   "outputs": [],
   "source": [
    "df.head()"
   ]
  },
  {
   "cell_type": "code",
   "execution_count": null,
   "metadata": {},
   "outputs": [],
   "source": [
    "target.value_counts()"
   ]
  },
  {
   "cell_type": "code",
   "execution_count": null,
   "metadata": {},
   "outputs": [],
   "source": []
  },
  {
   "cell_type": "code",
   "execution_count": null,
   "metadata": {},
   "outputs": [],
   "source": []
  },
  {
   "cell_type": "code",
   "execution_count": null,
   "metadata": {},
   "outputs": [],
   "source": []
  },
  {
   "cell_type": "markdown",
   "metadata": {},
   "source": [
    "### How to deal with multiclass targets\n",
    "\n",
    "There are a few problems with categorical multiclass targets..."
   ]
  },
  {
   "cell_type": "code",
   "execution_count": null,
   "metadata": {},
   "outputs": [],
   "source": []
  },
  {
   "cell_type": "code",
   "execution_count": null,
   "metadata": {},
   "outputs": [],
   "source": []
  },
  {
   "cell_type": "code",
   "execution_count": null,
   "metadata": {},
   "outputs": [],
   "source": []
  },
  {
   "cell_type": "code",
   "execution_count": null,
   "metadata": {},
   "outputs": [],
   "source": []
  },
  {
   "cell_type": "markdown",
   "metadata": {},
   "source": [
    "## The algorithm"
   ]
  },
  {
   "cell_type": "code",
   "execution_count": null,
   "metadata": {},
   "outputs": [],
   "source": [
    "from sklearn.tree import DecisionTreeClassifier\n",
    "\n",
    "dtc = DecisionTreeClassifier()"
   ]
  },
  {
   "cell_type": "code",
   "execution_count": null,
   "metadata": {},
   "outputs": [],
   "source": []
  },
  {
   "cell_type": "code",
   "execution_count": null,
   "metadata": {},
   "outputs": [],
   "source": []
  },
  {
   "cell_type": "markdown",
   "metadata": {},
   "source": [
    "## Evaluation"
   ]
  },
  {
   "cell_type": "code",
   "execution_count": null,
   "metadata": {},
   "outputs": [],
   "source": []
  },
  {
   "cell_type": "code",
   "execution_count": null,
   "metadata": {},
   "outputs": [],
   "source": []
  },
  {
   "cell_type": "code",
   "execution_count": null,
   "metadata": {},
   "outputs": [],
   "source": []
  },
  {
   "cell_type": "code",
   "execution_count": null,
   "metadata": {},
   "outputs": [],
   "source": []
  },
  {
   "cell_type": "markdown",
   "metadata": {},
   "source": [
    "### Overfitting\n",
    "\n",
    "Let's quickly try a different algorithm"
   ]
  },
  {
   "cell_type": "code",
   "execution_count": null,
   "metadata": {},
   "outputs": [],
   "source": [
    "from sklearn.neighbors import KNeighborsClassifier"
   ]
  },
  {
   "cell_type": "code",
   "execution_count": null,
   "metadata": {},
   "outputs": [],
   "source": []
  },
  {
   "cell_type": "code",
   "execution_count": null,
   "metadata": {},
   "outputs": [],
   "source": []
  }
 ],
 "metadata": {
  "kernelspec": {
   "display_name": "Python 3",
   "language": "python",
   "name": "python3"
  },
  "language_info": {
   "codemirror_mode": {
    "name": "ipython",
    "version": 3
   },
   "file_extension": ".py",
   "mimetype": "text/x-python",
   "name": "python",
   "nbconvert_exporter": "python",
   "pygments_lexer": "ipython3",
   "version": "3.7.1"
  }
 },
 "nbformat": 4,
 "nbformat_minor": 2
}
